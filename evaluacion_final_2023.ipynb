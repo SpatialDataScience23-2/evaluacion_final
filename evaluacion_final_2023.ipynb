{
 "cells": [
  {
   "cell_type": "markdown",
   "id": "8b3ef6f7",
   "metadata": {},
   "source": [
    "## Evaluación final"
   ]
  },
  {
   "cell_type": "markdown",
   "id": "1573c01c",
   "metadata": {},
   "source": [
    "### Exercises Part I\n",
    "\n",
    "<div class=\"alert-warning\">\n",
    "    \n",
    "Exercises 1,2,3,4 for this part must read you data from GitHub links, and the coding and results must be published using GitHub Pages\n",
    "\n",
    "</div>"
   ]
  },
  {
   "cell_type": "markdown",
   "id": "fe6be5c2",
   "metadata": {},
   "source": [
    "### Exercise 1\n",
    "\n",
    "<div class=\"alert-success\">\n",
    "    \n",
    "1. Use two maps of points.\n",
    "\n",
    "2. Compute the distance matrix for both maps.\n",
    "\n",
    "3. Select one row of the distance matrix, and plot the two points with the minimal distance on top of the country of your choosing.\n",
    "</div>"
   ]
  },
  {
   "cell_type": "code",
   "execution_count": 1,
   "id": "3c52c5c4",
   "metadata": {},
   "outputs": [
    {
     "data": {
      "text/plain": [
       "['country', 'cities', 'rivers']"
      ]
     },
     "execution_count": 1,
     "metadata": {},
     "output_type": "execute_result"
    }
   ],
   "source": [
    "import os\n",
    "\n",
    "\n",
    "import geopandas as gpd\n",
    "from  fiona import listlayers\n",
    "\n",
    "#maps\n",
    "australiaMaps='https://github.com/SpatialDataScience23-2/evaluacion_final/raw/main/maps/australiaMaps_3112.gpkg'\n",
    "\n",
    "#layers in maps\n",
    "listlayers(australiaMaps)"
   ]
  },
  {
   "cell_type": "code",
   "execution_count": null,
   "id": "f2a27a78",
   "metadata": {},
   "outputs": [],
   "source": []
  }
 ],
 "metadata": {
  "kernelspec": {
   "display_name": "Python 3 (ipykernel)",
   "language": "python",
   "name": "python3"
  },
  "language_info": {
   "codemirror_mode": {
    "name": "ipython",
    "version": 3
   },
   "file_extension": ".py",
   "mimetype": "text/x-python",
   "name": "python",
   "nbconvert_exporter": "python",
   "pygments_lexer": "ipython3",
   "version": "3.11.4"
  }
 },
 "nbformat": 4,
 "nbformat_minor": 5
}
